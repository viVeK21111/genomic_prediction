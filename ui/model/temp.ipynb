{
 "cells": [
  {
   "cell_type": "code",
   "execution_count": 92,
   "metadata": {},
   "outputs": [],
   "source": [
    "import pandas as pd\n",
    "from sklearn.preprocessing import MinMaxScaler\n",
    "from sklearn.preprocessing import StandardScaler\n",
    "from imblearn.over_sampling import RandomOverSampler, SMOTE, ADASYN\n",
    "from sklearn.model_selection import train_test_split\n",
    "from sklearn.ensemble import RandomForestClassifier\n",
    "from sklearn.metrics import accuracy_score,mean_absolute_error\n",
    "import matplotlib.pyplot as plt\n",
    "import seaborn as sns\n",
    "import pandas as pd\n",
    "import numpy as np\n",
    "from flask import jsonify,send_file\n",
    "import pickle\n",
    "import json\n",
    "from tensorflow.keras.models import load_model\n",
    "from joblib import dump,load\n",
    "from sklearn.model_selection import KFold,cross_val_score\n",
    "import joblib"
   ]
  },
  {
   "cell_type": "code",
   "execution_count": 93,
   "metadata": {},
   "outputs": [
    {
     "name": "stdout",
     "output_type": "stream",
     "text": [
      "Accuracy: 0.719 (0.039)\n"
     ]
    },
    {
     "data": {
      "text/plain": [
       "'\\nx_train,x_test,y_train,y_test=train_test_split(X_resampled,y_resampled,random_state=42,test_size=0.33) \\nmodel_r.fit(x_train,y_train)\\ns_pred=model_r.predict(x) \\nr_pred=model_r.predict(x_test)\\nprint(accuracy_score(y_test,r_pred))\\n\\n'"
      ]
     },
     "execution_count": 93,
     "metadata": {},
     "output_type": "execute_result"
    }
   ],
   "source": [
    "df=pd.read_csv(\"D:\\\\genomic prediction\\\\ui\\\\data\\\\ddata.csv\") \n",
    "df=df.drop(columns=['Unnamed: 0'])\n",
    "x=df.iloc[:,:-2]\n",
    "y=df.iloc[:,-2]\n",
    "z=df.iloc[:,-1]\n",
    "smote = SMOTE(random_state=42)\n",
    "X_resampled, y_resampled = smote.fit_resample(x, y)\n",
    "\n",
    "model_r=RandomForestClassifier(n_estimators=7,max_depth=9,random_state=42,criterion=\"gini\",max_features='sqrt',max_leaf_nodes=30) \n",
    "\n",
    "cv = KFold(n_splits=10, random_state=1, shuffle=True)\n",
    "scores = cross_val_score(model_r, X_resampled, y_resampled, scoring='accuracy', cv=cv, n_jobs=-1)\n",
    "print('Accuracy: %.3f (%.3f)' % (np.mean(scores), np.std(scores)))\n",
    "\n",
    "\n",
    "\"\"\"\n",
    "x_train,x_test,y_train,y_test=train_test_split(X_resampled,y_resampled,random_state=42,test_size=0.33) \n",
    "model_r.fit(x_train,y_train)\n",
    "s_pred=model_r.predict(x) \n",
    "r_pred=model_r.predict(x_test)\n",
    "print(accuracy_score(y_test,r_pred))\n",
    "\n",
    "\"\"\"\n"
   ]
  },
  {
   "cell_type": "code",
   "execution_count": 94,
   "metadata": {},
   "outputs": [
    {
     "data": {
      "text/plain": [
       "['model_r.pkl']"
      ]
     },
     "execution_count": 94,
     "metadata": {},
     "output_type": "execute_result"
    }
   ],
   "source": [
    "model_r.fit( X_resampled,y_resampled)\n",
    "joblib.dump(model_r, 'model_r.pkl')"
   ]
  },
  {
   "cell_type": "code",
   "execution_count": 95,
   "metadata": {},
   "outputs": [],
   "source": [
    "s_pred=model_r.predict(x) "
   ]
  },
  {
   "cell_type": "code",
   "execution_count": 96,
   "metadata": {},
   "outputs": [],
   "source": [
    "s_pred=list(s_pred)\n",
    "df_h=pd.DataFrame(df.iloc[:,:-2]) \n",
    "df_h['sub']=s_pred \n",
    "df_h['sub']=df_h['sub'].astype(\"category\").cat.codes +1  \n",
    "df_h['height']=z\n",
    "df_h.columns=df_h.columns.astype(str)   \n",
    "\n",
    "def Outlier_Treatment(df1,variable):\n",
    "    percentile25=df1[variable].quantile(0.25)  #q1\n",
    "    percentile75=df1[variable].quantile(0.75)  #q3\n",
    "    iqr=percentile75-percentile25\n",
    "    upper_limit=percentile75+1.5*iqr\n",
    "    lower_limit=percentile25-1.5*iqr\n",
    "    df_final = df1[ (df1[variable]>=lower_limit) & (df1[variable]<=upper_limit) ]\n",
    "    return df_final\n",
    "\n",
    "df_final=Outlier_Treatment(df_h,'height')\n",
    "\n",
    "xh=df_final.iloc[:,:-1]\n",
    "yh=df_final.iloc[:,-1] \n",
    "\n",
    "\n"
   ]
  },
  {
   "cell_type": "code",
   "execution_count": 97,
   "metadata": {},
   "outputs": [
    {
     "name": "stdout",
     "output_type": "stream",
     "text": [
      "(528, 10) (528,)\n"
     ]
    }
   ],
   "source": [
    "xh=xh.values\n",
    "yh=yh.values\n",
    "print(xh.shape,yh.shape)"
   ]
  },
  {
   "cell_type": "code",
   "execution_count": 98,
   "metadata": {},
   "outputs": [
    {
     "data": {
      "text/plain": [
       "1.0"
      ]
     },
     "execution_count": 98,
     "metadata": {},
     "output_type": "execute_result"
    }
   ],
   "source": [
    "xh[0][9]"
   ]
  },
  {
   "cell_type": "code",
   "execution_count": 99,
   "metadata": {},
   "outputs": [
    {
     "name": "stdout",
     "output_type": "stream",
     "text": [
      "mae: 16.512 (1.350)\n"
     ]
    },
    {
     "data": {
      "text/plain": [
       "'\\nX_train,X_test,Y_train,Y_test=train_test_split(xh,yh,random_state=42,test_size=0.33)\\nfrom sklearn.preprocessing import MinMaxScaler\\nmm=MinMaxScaler()\\nmm.fit(X_train)\\nX_train=mm.transform(X_train)\\nX_test=mm.transform(X_test)\\nbg_model.fit(X_train,Y_train)\\n'"
      ]
     },
     "execution_count": 99,
     "metadata": {},
     "output_type": "execute_result"
    }
   ],
   "source": [
    "from sklearn.ensemble import RandomForestRegressor  \n",
    "from sklearn.ensemble import BaggingRegressor\n",
    "from sklearn.preprocessing import MinMaxScaler\n",
    "from sklearn.metrics import mean_squared_error as mse\n",
    "from sklearn.metrics import mean_absolute_error as mae\n",
    "scaler=MinMaxScaler()\n",
    "model_rr=RandomForestRegressor(n_estimators=13,max_depth=4,random_state=42)\n",
    "bg_model=BaggingRegressor(estimator=model_rr,n_estimators=2,random_state=42)\n",
    "\n",
    "mse_scores=[]\n",
    "kf = KFold(n_splits=10, random_state=42, shuffle=True)\n",
    "for train_index, test_index in kf.split(xh):\n",
    "    X_train, X_test = xh[train_index], xh[test_index]\n",
    "    y_train, y_test = yh[train_index], yh[test_index]\n",
    "    \n",
    "    # Fit the scaler on training data\n",
    "    #scaler.fit(X_train)\n",
    "    \n",
    "    # Transform the training and test data\n",
    "    #X_train_scaled = scaler.transform(X_train)\n",
    "    #X_test_scaled = scaler.transform(X_test)\n",
    "    \n",
    "    # Train the model\n",
    "    bg_model.fit(X_train, y_train)\n",
    "    \n",
    "    # Predict and evaluate\n",
    "    y_pred = bg_model.predict(X_test)\n",
    "    msee = mae(y_test, y_pred)\n",
    "    mse_scores.append(msee)\n",
    "\n",
    "\n",
    "print('mae: %.3f (%.3f)' % (np.mean(mse_scores), np.std(mse_scores)))\n",
    "\n",
    "\"\"\"\n",
    "X_train,X_test,Y_train,Y_test=train_test_split(xh,yh,random_state=42,test_size=0.33)\n",
    "from sklearn.preprocessing import MinMaxScaler\n",
    "mm=MinMaxScaler()\n",
    "mm.fit(X_train)\n",
    "X_train=mm.transform(X_train)\n",
    "X_test=mm.transform(X_test)\n",
    "bg_model.fit(X_train,Y_train)\n",
    "\"\"\"\n",
    " "
   ]
  },
  {
   "cell_type": "code",
   "execution_count": 102,
   "metadata": {},
   "outputs": [
    {
     "data": {
      "text/plain": [
       "numpy.ndarray"
      ]
     },
     "execution_count": 102,
     "metadata": {},
     "output_type": "execute_result"
    }
   ],
   "source": [
    "type(xh)"
   ]
  },
  {
   "cell_type": "code",
   "execution_count": 100,
   "metadata": {},
   "outputs": [
    {
     "data": {
      "text/plain": [
       "['model_br.pkl']"
      ]
     },
     "execution_count": 100,
     "metadata": {},
     "output_type": "execute_result"
    }
   ],
   "source": [
    "#scaler.fit(xh)\n",
    "#bigx= scaler.transform(xh)\n",
    "bg_model.fit(xh,yh)\n",
    "#joblib.dump(bg_model,'model_br.pkl')\n",
    "#joblib.dump(scaler,'scaler_x.pkl')"
   ]
  },
  {
   "cell_type": "code",
   "execution_count": null,
   "metadata": {},
   "outputs": [],
   "source": []
  }
 ],
 "metadata": {
  "kernelspec": {
   "display_name": "Python 3",
   "language": "python",
   "name": "python3"
  },
  "language_info": {
   "codemirror_mode": {
    "name": "ipython",
    "version": 3
   },
   "file_extension": ".py",
   "mimetype": "text/x-python",
   "name": "python",
   "nbconvert_exporter": "python",
   "pygments_lexer": "ipython3",
   "version": "3.12.4"
  }
 },
 "nbformat": 4,
 "nbformat_minor": 2
}
